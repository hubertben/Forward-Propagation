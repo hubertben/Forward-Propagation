{
  "cells": [
    {
      "metadata": {
        "trusted": true
      },
      "cell_type": "code",
      "source": "import random as rand\nimport numpy as np\nimport math \n\nclass Node:\n    \n    weights = []\n    value = 0\n    \n    def __init__(self, val):  \n            self.value = val\n                               \n    def pass_weights_in(self, w):\n        self.weights = w\n    \n    def set_value(self, v):\n        self.value = v\n    \n    def sigmoid(self, x):        \n        return 1/(1 + np.exp(-x)) \n    \n    def push_forward(self, input_layer):\n        self.weights = np.random.uniform(low = -1, high = 1, size = len(input_layer.nodes))\n        input_list = input_layer.gather_node_values()  \n        a = sum([a*b for a,b in zip(input_list, self.weights)])\n        self.value = self.sigmoid(a)\n        \n    def alter_weight_at_index(self, index, val):\n        self.weights[index] = val\n        \n    def print_value(self):\n        print(self.value)\n        \n        \nclass Layer:\n    \n    nodes = []\n    \n    def __init__(self, size):\n        self.nodes = [Node(0) for _ in range(size)]\n            \n    def gather_node_values(self):\n        l = [self.nodes[i].value for i in range(len(self.nodes))]\n        return l\n    \n    def push_all_nodes(self, prev_layer): \n        for i in range(len(self.nodes)):\n            self.nodes[i].push_forward(prev_layer)\n    \n    def assign_node_values(self, l):\n        for i in range(len(self.nodes)):\n            self.nodes[i].set_value(l[i])\n        \n    def print_layers_nodes_values(self):\n        for i in range(len(self.nodes)):\n            self.nodes[i].print_value()\n    \n    def print_layers_nodes_weights(self):\n        for i in range(len(self.nodes)):\n            print(self.nodes[i].weights)\n        \n\nclass Mesh:\n    \n    layers = []\n    input_layer = 0\n    \n    def __init__(self, input_layer, input_sizes):     \n        self.input_layer = input_layer\n        self.layers = [Layer(input_sizes[i]) for i in range(len(input_sizes))]\n        \n    def full_push_forward(self):    \n        self.layers[0].push_all_nodes(input_layer)   \n        for i in range(1, len(self.layers)):\n            self.layers[i].push_all_nodes(self.layers[i-1])\n        \n    def full_print(self):\n        print(\"Input Layer: \")\n        self.input_layer.print_layers_nodes_weights()\n        self.input_layer.print_layers_nodes_values()\n        print(\"\")\n        \n        for i in range(len(self.layers)):\n            print(\"Layer \" + str(i) + \":\")\n            self.layers[i].print_layers_nodes_weights()\n            self.layers[i].print_layers_nodes_values()\n            print(\"\")\n        \n        \n        \ninput_values = [.5, .7, -.2, -.8, .1]\ninput_layer = Layer(len(input_values))\ninput_layer.assign_node_values(input_values)\n\nm = Mesh(input_layer, [3, 5, 2, 1])\nm.full_push_forward()\nm.full_print()\n\n",
      "execution_count": 188,
      "outputs": [
        {
          "output_type": "stream",
          "text": "Input Layer: \n[]\n[]\n[]\n[]\n[]\n0.5\n0.7\n-0.2\n-0.8\n0.1\n\nLayer 0:\n[0.40833286 0.62375896 0.25220198 0.41487617 0.46070277]\n[ 0.17256701  0.92298066  0.40501209  0.56465143 -0.31690999]\n[0.0085833  0.93220103 0.02245499 0.08260267 0.2941884 ]\n0.5755487183965328\n0.5418904239541681\n0.6492349564465412\n\nLayer 1:\n[ 0.13787996 -0.27890053 -0.50794753]\n[-0.80020849 -0.44151955 -0.65342795]\n[ 0.02587338 -0.65677175 -0.98963303]\n[-0.45194091  0.55028641  0.90902084]\n[-0.91885435 -0.03753782  0.90224733]\n0.40093898711700143\n0.24526222017857371\n0.2721956241514005\n0.6520923286429365\n0.5091449010117696\n\nLayer 2:\n[-0.61682368 -0.22965716  0.23727631 -0.08328646  0.67104215]\n[ 0.47290273  0.21925901  0.3394402  -0.52014302 -0.96354095]\n0.5120721325007532\n0.37895454582674554\n\nLayer 3:\n[-0.2337195  -0.52135527]\n0.4213457992970126\n\n",
          "name": "stdout"
        }
      ]
    }
  ],
  "metadata": {
    "kernelspec": {
      "name": "python36",
      "display_name": "Python 3.6",
      "language": "python"
    },
    "language_info": {
      "mimetype": "text/x-python",
      "nbconvert_exporter": "python",
      "name": "python",
      "pygments_lexer": "ipython3",
      "version": "3.6.6",
      "file_extension": ".py",
      "codemirror_mode": {
        "version": 3,
        "name": "ipython"
      }
    }
  },
  "nbformat": 4,
  "nbformat_minor": 2
}